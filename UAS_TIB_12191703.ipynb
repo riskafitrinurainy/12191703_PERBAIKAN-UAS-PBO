{
 "cells": [
  {
   "cell_type": "markdown",
   "metadata": {
    "id": "wmLXDio5Dedv"
   },
   "source": [
    "**NIM :12191703**\n",
    "\n",
    "**Nama : Riska Fitri Nur Ainy**"
   ]
  },
  {
   "cell_type": "markdown",
   "metadata": {
    "id": "4P01AZZYDrDC"
   },
   "source": [
    "\n",
    "1. Ubah nama file notebook ini dengan format **UAS_TIB_NIM.ipynb**\n",
    "Contoh : UAS_TIB_12399981.ipynb\n",
    "\n",
    "2. Desain Class untuk bangun ruang pada kasus UTS anda. \n",
    "3. Implementasikan Enskapsulasi untuk Class Bangun Datar yang anda rancang.  \n",
    "4. Implentasikan hasil desain class anda dengan membuat 4 (empat) buah objek objek yang berbeda dari dari kelas yang anda. \n",
    "5. Berikan contoh implementasi konsep pewarisan dari class yang anda buat.\n",
    "6. Berikan contoh implementasi konsep polymorphism dari class yang anda buat.\n",
    "7. Berikan penjelasan dari kode yang anda buat untuk point 2 - 6 diatas \n"
   ]
  },
  {
   "cell_type": "code",
   "execution_count": 14,
   "metadata": {},
   "outputs": [
    {
     "name": "stdout",
     "output_type": "stream",
     "text": [
      "<class '__main__.limas_segitiga'>\n",
      "limas_segitiga\n",
      "limas segitiga adalah bangun ruang yang memiliki alas berbentuk segitiga\n"
     ]
    }
   ],
   "source": [
    "#Jawaban Soal 2. Desain Class untuk bangun ruang pada kasus UTS anda.\n",
    "\n",
    "class limas_segitiga: ##Class adalah gambaran umum dari suatu objek\n",
    "    'limas segitiga adalah bangun ruang yang memiliki alas berbentuk segitiga'\n",
    "\n",
    "print(limas_segitiga) ##Mencetak tulisan limas segitiga\n",
    "print(limas_segitiga.__name__) ##Untuk memanggil class limas segitiga\n",
    "print(limas_segitiga.__doc__) ##Untuk menampilkan data dari class limas segitiga"
   ]
  },
  {
   "cell_type": "code",
   "execution_count": 9,
   "metadata": {},
   "outputs": [
    {
     "name": "stdout",
     "output_type": "stream",
     "text": [
      "soal no 2 :\n",
      "Perhitungan Volume Limas segitiga\n",
      "Luas : 20\n",
      "Tinggi : 10\n",
      "volume : 66.66666666666666\n"
     ]
    }
   ],
   "source": [
    "print (\"soal no 2 :\")\n",
    "class Limas_segitiga:\n",
    "    \n",
    "    def __init__(self, luas_limas_segitiga, tinggi_limas_segitiga): #pendefinisian program\n",
    "        self.luas = luas_limas_segitiga\n",
    "        self.tinggi = tinggi_limas_segitiga\n",
    "        \n",
    "    def info(self) : #penrumusan bangun ruang\n",
    "        print(\"Perhitungan Volume Limas segitiga\")\n",
    "        print(\"Luas :\", self.luas)\n",
    "        print(\"Tinggi :\", self.tinggi)\n",
    "        print(\"volume :\", (1/3*self.luas*self.tinggi))\n",
    "        \n",
    "Limas = Limas_segitiga(20, 10) #untuk memasukkan luas dan tinggi limas segitiga\n",
    "\n",
    "Limas.info() #untuk menghitung yang telah terdefinisi pada info"
   ]
  },
  {
   "cell_type": "code",
   "execution_count": 8,
   "metadata": {},
   "outputs": [
    {
     "name": "stdout",
     "output_type": "stream",
     "text": [
      "soal no 3 :\n",
      "Volume Limas segitiga 96\n",
      "Volume Limas segitiga 16\n"
     ]
    }
   ],
   "source": [
    "#Jawab 3\n",
    "# Enskapsulasi\n",
    "\n",
    "print (\"soal no 3 :\")\n",
    "class Limas_segitiga:\n",
    "\n",
    "    def __init__(self): #enskapsulasi perhitungan\n",
    "        self.__luas = 24\n",
    "        self.__tinggi = 12 \n",
    "\n",
    "    def hitung(self): #rumus limas\n",
    "        hasil = self.__luas * self.__tinggi * 1/3 \n",
    "        print(\"Volume Limas segitiga {}\".format( int(hasil) ))\n",
    " \n",
    "    def setvolume(self, luas_baru, tinggi_baru): #untuk memasukkan luas dan tinggi secara tidak privat\n",
    "        self.__luas = luas_baru\n",
    "        self.__tinggi = tinggi_baru\n",
    "\n",
    "Volume = Limas_segitiga()\n",
    "\n",
    "#contoh perubahan ketika bersifat privat\n",
    "Volume.__luas = 15\n",
    "Volume.__tinggi = 5\n",
    "Volume.hitung()\n",
    "\n",
    "#memasukkan perubahan luas dan tinggi\n",
    "Volume.setvolume(10,5)\n",
    "Volume.hitung()"
   ]
  },
  {
   "cell_type": "code",
   "execution_count": 27,
   "metadata": {},
   "outputs": [
    {
     "name": "stdout",
     "output_type": "stream",
     "text": [
      "soal no 4 : \n",
      "Bentuk Objek Bangun ini adalah Limas Segitiga\n",
      "Bentuk Objek Bangun ini adalah Limas Segi empat\n",
      "Bentuk Objek Bangun ini adalah Limas Segi lima\n",
      "Bentuk Objek Bangun ini adalah Limas Seg ienam\n"
     ]
    }
   ],
   "source": [
    "#Jawab 4\n",
    "#pewaris\n",
    "\n",
    "print (\"soal no 4 : \")\n",
    "class bentuk_limas :\n",
    "    \n",
    "    def __init__(self, nama) : #memasukkan awalan / templet untuk objek yg berbeda\n",
    "        self.nama = nama\n",
    "        print(\"Bentuk Objek Bangun ini adalah {}\".format(self.nama))\n",
    "\n",
    "#melakukan 4 objek berbeda\n",
    "bentuk = bentuk_limas (\"Limas Segitiga\")\n",
    "bentuk = bentuk_limas(\"Limas Segi empat\")\n",
    "bentuk = bentuk_limas(\"Limas Segi lima\")\n",
    "bentuk = bentuk_limas (\"Limas Seg ienam\")"
   ]
  },
  {
   "cell_type": "code",
   "execution_count": 18,
   "metadata": {},
   "outputs": [
    {
     "name": "stdout",
     "output_type": "stream",
     "text": [
      "soal no 5 :\n",
      "Luas Limas Segitiga : 25\n",
      "Tinggi Limas Segitiga : 6\n",
      "Volume Limas segitiga yang memiliki luas 25 dan tinggi 6 adalah 50 .\n"
     ]
    }
   ],
   "source": [
    "#Jawab 5\n",
    "#class pewarisan\n",
    "\n",
    "print (\"soal no 5 :\")\n",
    "\n",
    "class Limas_segitiga:\n",
    "\n",
    "    def __init__(self):\n",
    "        self\n",
    "\n",
    "    def setLuas(self):\n",
    "        self.luas = int(input(\"Luas Limas Segitiga : \"))\n",
    "\n",
    "    def setTinggi(self):\n",
    "        self.tinggi = int(input(\"Tinggi Limas Segitiga : \"))\n",
    "        \n",
    "#class pewarisan dari limas segitiga, yaitu perhitungan volume       \n",
    "class Volume_Limas_segitiga(Limas_segitiga) :\n",
    "    \n",
    "    def __init__(self):\n",
    "        super().__init__()\n",
    "        \n",
    "    def hitung(self):\n",
    "        jumlah = self.luas * self. tinggi * 1/3\n",
    "        print(f\"Volume Limas segitiga yang memiliki luas {self.luas} dan tinggi {self.tinggi} adalah {int(jumlah)} .\")\n",
    "        \n",
    "Volume = Volume_Limas_segitiga()\n",
    "\n",
    "#pendefinisian masukkan\n",
    "Volume.setLuas()\n",
    "Volume.setTinggi()\n",
    "Volume.hitung()"
   ]
  },
  {
   "cell_type": "code",
   "execution_count": 22,
   "metadata": {},
   "outputs": [
    {
     "name": "stdout",
     "output_type": "stream",
     "text": [
      "Soal No. 6 : \n",
      "Rumus menghitung volume limas segitiga : \n",
      "L = 1/3 * Alas × Tinggi\n",
      "Jika diketahui alas = 15 cm dan tinggi = 6 cm, maka volume limas segitiga adalah 30 cm2.\n",
      "\n",
      "Rumus menghitung segitiga siku siku:\n",
      "L =  1/2 × Alas × Tinggi\n",
      "Jika diketahui alas = 8 cm dan tinggi = 10 cm, maka luas segitiga siku-siku adalah 40 cm2.\n"
     ]
    }
   ],
   "source": [
    "#jawab no 6\n",
    "# polymorphism\n",
    "\n",
    "class volume_limas_segitiga:\n",
    "\n",
    "    def __init__(self, alas, tinggi):\n",
    "        self.alas = alas\n",
    "        self.tinggi = tinggi\n",
    "\n",
    "    def info(self):\n",
    "        print(\"Rumus menghitung volume limas segitiga : \")\n",
    "        print(\"L = 1/3 * Alas × Tinggi\")\n",
    "\n",
    "    def hitung(self):\n",
    "        luas = self.alas * self.tinggi * (1/3)\n",
    "        print(f\"Jika diketahui alas = {self.alas} cm dan tinggi = {self.tinggi} cm, maka volume limas segitiga adalah {int(luas)} cm2.\")\n",
    "        print()\n",
    "        \n",
    "class Luas_segitiga_siku_siku:\n",
    "\n",
    "    def __init__(self, alas, tinggi):\n",
    "        self.alas = alas\n",
    "        self.tinggi = tinggi\n",
    "\n",
    "    def info(self):\n",
    "        print(\"Rumus menghitung segitiga siku siku:\")\n",
    "        print(\"L =  1/2 × Alas × Tinggi\")\n",
    "\n",
    "    def hitung(self):\n",
    "        luas = (1/2) * self.alas * self.tinggi\n",
    "        print(f\"Jika diketahui alas = {self.alas} cm dan tinggi = {self.tinggi} cm, maka luas segitiga siku-siku adalah {int(luas)} cm2.\")\n",
    "\n",
    "limas_segitiga = volume_limas_segitiga(15,6)\n",
    "segitiga_siku_siku = Luas_segitiga_siku_siku(8,10)\n",
    "\n",
    "print(\"Soal No. 6 : \")\n",
    "for luas_bidang_datar in (limas_segitiga, segitiga_siku_siku) :\n",
    "    luas_bidang_datar.info()\n",
    "    luas_bidang_datar.hitung()\n",
    "    "
   ]
  }
 ],
 "metadata": {
  "colab": {
   "collapsed_sections": [],
   "name": "UAS_TIB_NIM.ipynb",
   "provenance": []
  },
  "kernelspec": {
   "display_name": "Python 3",
   "language": "python",
   "name": "python3"
  },
  "language_info": {
   "codemirror_mode": {
    "name": "ipython",
    "version": 3
   },
   "file_extension": ".py",
   "mimetype": "text/x-python",
   "name": "python",
   "nbconvert_exporter": "python",
   "pygments_lexer": "ipython3",
   "version": "3.9.0"
  }
 },
 "nbformat": 4,
 "nbformat_minor": 1
}
